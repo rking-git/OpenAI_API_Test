{
 "cells": [
  {
   "cell_type": "code",
   "execution_count": 1,
   "id": "8254bea9-0927-4549-b710-b7f523d932ed",
   "metadata": {},
   "outputs": [],
   "source": [
    "import os\n",
    "import openai #needed for error handling\n",
    "from openai import OpenAI\n",
    "\n",
    "from dotenv import load_dotenv, find_dotenv\n",
    "_ = load_dotenv(find_dotenv()) # read local .env file"
   ]
  },
  {
   "cell_type": "code",
   "execution_count": 2,
   "id": "d0e8752f-2cf8-46d0-92bf-596e60f99fab",
   "metadata": {},
   "outputs": [],
   "source": [
    "client = OpenAI(\n",
    "  api_key=os.environ['OPENAI_API_KEY']  \n",
    ")"
   ]
  },
  {
   "cell_type": "code",
   "execution_count": 3,
   "id": "6caa6254-13e1-492c-8b92-37b1028de0f4",
   "metadata": {},
   "outputs": [],
   "source": [
    "TEXT_MODEL = \"gpt-3.5-turbo\"\n",
    "\n",
    "#sets the persona for the AI assistant using a system message\n",
    "context = [{'role':'system', 'content':\"\"\"You are a friendly AI assistant that \n",
    "                                              helps compose professional-sounding tweets \n",
    "                                              for Twitter that often go viral based on a \n",
    "                                              website I provide. You will provide a summary \n",
    "                                              of the website in 50 words or less.\"\"\"\n",
    "            }]  "
   ]
  },
  {
   "cell_type": "code",
   "execution_count": 4,
   "id": "316ddd5a-8b5b-4c08-9e7a-dfe1015b49af",
   "metadata": {},
   "outputs": [],
   "source": [
    "# Each interaction with the AI assistant is a new session so the entire chat/message history, \n",
    "# including user prompts and assistant responses must be included in each exchange with the\n",
    "# model/assistant so that it \"remembers\"\n",
    "\n",
    "def collect_messages(role, message): #keeps track of the message exchange between user and assistant\n",
    "    context.append({'role': role, 'content':f\"{message}\"})"
   ]
  },
  {
   "cell_type": "code",
   "execution_count": 5,
   "id": "d9427df8-bcf1-45b5-8070-b5b23c107cf3",
   "metadata": {},
   "outputs": [],
   "source": [
    "# Sends the prompts to the model for a completion/response\n",
    "\n",
    "def get_completion(temperature=0): \n",
    "    try:\n",
    "        response = client.chat.completions.create(\n",
    "            model=TEXT_MODEL,\n",
    "            messages=context, \n",
    "            temperature=temperature, \n",
    "        )\n",
    "\n",
    "        print(\"\\n Assistant: \", response.choices[0].message.content, \"\\n\")\n",
    "\n",
    "        return response.choices[0].message.content\n",
    "    except openai.APIError as e:\n",
    "        print(e.http_status)\n",
    "        print(e.error)\n",
    "        return e.error"
   ]
  },
  {
   "cell_type": "code",
   "execution_count": 6,
   "id": "4e8adb4a-4d8a-44db-8887-96043675fe79",
   "metadata": {},
   "outputs": [],
   "source": [
    "# Create images from scratch based on the website summary\n",
    "\n",
    "def generate_image(summary):\n",
    "    print(summary)\n",
    "    \n",
    "    try:\n",
    "        response = client.images.generate(\n",
    "          model=\"dall-e-3\",\n",
    "          prompt=summary,\n",
    "          size=\"1024x1024\",\n",
    "          quality=\"standard\",\n",
    "          n=1, #select the number of images you want generated\n",
    "        )\n",
    "        \n",
    "        image_url = response.data[0].url #URLs will expire after an hour\n",
    "\n",
    "        return image_url\n",
    "    except openai.APIError as e:\n",
    "        print(e.http_status)\n",
    "        print(e.error)\n",
    "        return e.error"
   ]
  },
  {
   "cell_type": "code",
   "execution_count": null,
   "id": "73ccb2e3-c2a9-459c-913e-0c2a703fc6de",
   "metadata": {},
   "outputs": [],
   "source": [
    "#Start the conversation between the user and the AI assistant/chatbot\n",
    "    \n",
    "while True:\n",
    "    summary = get_completion()\n",
    "    \n",
    "    collect_messages('assistant', summary) #stores the response from the AI assistant\n",
    "    \n",
    "    user_prompt = input('User: ') #input box for entering prompt\n",
    "    \n",
    "    if user_prompt == 'exit': #end the conversation with the AI assistant\n",
    "        print(\"\\n Goodbye\")\n",
    "        break\n",
    "\n",
    "    collect_messages('user', user_prompt) #stores the user prompt"
   ]
  },
  {
   "cell_type": "code",
   "execution_count": null,
   "id": "4230fdbc-2ad0-487f-b88e-954391c2f054",
   "metadata": {},
   "outputs": [],
   "source": [
    "url = generate_image(summary)"
   ]
  },
  {
   "cell_type": "code",
   "execution_count": null,
   "id": "2daaac72-e218-490d-bd73-644c5a3afb10",
   "metadata": {},
   "outputs": [],
   "source": [
    "from IPython.display import Image\n",
    "Image(url=url)"
   ]
  }
 ],
 "metadata": {
  "kernelspec": {
   "display_name": "Python 3 (ipykernel)",
   "language": "python",
   "name": "python3"
  },
  "language_info": {
   "codemirror_mode": {
    "name": "ipython",
    "version": 3
   },
   "file_extension": ".py",
   "mimetype": "text/x-python",
   "name": "python",
   "nbconvert_exporter": "python",
   "pygments_lexer": "ipython3",
   "version": "3.12.8"
  }
 },
 "nbformat": 4,
 "nbformat_minor": 5
}
