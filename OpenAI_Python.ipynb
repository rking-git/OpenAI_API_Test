{
 "cells": [
  {
   "cell_type": "code",
   "execution_count": null,
   "id": "9a0739a0-8a7d-4e4b-8633-112d59593200",
   "metadata": {
    "jupyter": {
     "source_hidden": true
    }
   },
   "outputs": [],
   "source": [
    "pip install openai"
   ]
  },
  {
   "cell_type": "code",
   "execution_count": null,
   "id": "d0ceb209-7531-4fe2-acd8-b4f8b716b425",
   "metadata": {},
   "outputs": [],
   "source": [
    "pip install urllib3==1.26.6 "
   ]
  },
  {
   "cell_type": "code",
   "execution_count": null,
   "id": "6a2c9a48-728f-4f93-b1de-cf576788b3e8",
   "metadata": {},
   "outputs": [],
   "source": [
    "pip install python-dotenv"
   ]
  },
  {
   "cell_type": "code",
   "execution_count": 4,
   "id": "01e4da2e-d821-414e-90e3-46bee4d84188",
   "metadata": {},
   "outputs": [],
   "source": [
    "import os\n",
    "import openai #needed for error handling\n",
    "from openai import OpenAI\n",
    "\n",
    "from dotenv import load_dotenv, find_dotenv\n",
    "_ = load_dotenv(find_dotenv()) # read local .env file"
   ]
  },
  {
   "cell_type": "code",
   "execution_count": null,
   "id": "2c236d6f-d7ca-4824-aaf3-358a89229ad0",
   "metadata": {},
   "outputs": [],
   "source": [
    "client = OpenAI(\n",
    "  api_key=os.environ['OPENAI_API_KEY']  \n",
    ")"
   ]
  },
  {
   "cell_type": "code",
   "execution_count": 6,
   "id": "41c1da08-b50b-4fae-a4ee-2acc5a2361a0",
   "metadata": {},
   "outputs": [],
   "source": [
    "MODEL = \"gpt-3.5-turbo\""
   ]
  },
  {
   "cell_type": "code",
   "execution_count": 7,
   "id": "cd802850-aba7-4b9f-9b2a-c83995ec15a0",
   "metadata": {},
   "outputs": [],
   "source": [
    "def generate_prompt():  \n",
    "    context = [{'role':'system', 'content':\"\"\"You are a friendly AI assistant that \n",
    "                                              helps compose professional-sounding tweets \n",
    "                                              for Twitter that often go viral based on a \n",
    "                                              website I provide. You will provide a summary \n",
    "                                              of the website in 30 words or less.\"\"\"\n",
    "               }]  \n",
    "    \n",
    "    return context"
   ]
  },
  {
   "cell_type": "code",
   "execution_count": 8,
   "id": "562e64b8-abe8-4133-a0ed-b2c4e2bd9bed",
   "metadata": {},
   "outputs": [],
   "source": [
    "def get_completion(temperature=0):\n",
    "    \n",
    "    try:\n",
    "        response = client.chat.completions.create(\n",
    "            model=MODEL,\n",
    "            messages=generate_prompt(),\n",
    "            temperature=temperature, # this is the degree of randomness of the model's output\n",
    "        )\n",
    "        \n",
    "        return response.model_dump_json(indent=2)\n",
    "    except openai.APIError as e:\n",
    "        print(e.http_status)\n",
    "        print(e.error)\n",
    "        return e.error"
   ]
  },
  {
   "cell_type": "code",
   "execution_count": null,
   "id": "78f58c21-665f-47b6-86a6-c6d283695821",
   "metadata": {},
   "outputs": [],
   "source": [
    "print(get_completion(0))"
   ]
  }
 ],
 "metadata": {
  "kernelspec": {
   "display_name": "Python 3 (ipykernel)",
   "language": "python",
   "name": "python3"
  },
  "language_info": {
   "codemirror_mode": {
    "name": "ipython",
    "version": 3
   },
   "file_extension": ".py",
   "mimetype": "text/x-python",
   "name": "python",
   "nbconvert_exporter": "python",
   "pygments_lexer": "ipython3",
   "version": "3.12.8"
  }
 },
 "nbformat": 4,
 "nbformat_minor": 5
}
